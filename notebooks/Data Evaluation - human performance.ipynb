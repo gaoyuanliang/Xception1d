{
 "cells": [
  {
   "cell_type": "code",
   "execution_count": null,
   "metadata": {},
   "outputs": [],
   "source": [
    "cd .."
   ]
  },
  {
   "cell_type": "code",
   "execution_count": null,
   "metadata": {
    "collapsed": true
   },
   "outputs": [],
   "source": [
    "%matplotlib inline\n",
    "\n",
    "from src.data_processing import get_list_of_wav_paths, DataFeeder\n",
    "from src.constants import commands, available_tasks\n",
    "import numpy as np\n",
    "import pandas as pd\n",
    "import matplotlib.pyplot as plt\n",
    "from IPython.display import Audio, clear_output, display\n",
    "import random\n",
    "import time\n",
    "import os\n",
    "def store_list(list_to_store, filepath):\n",
    "    with open(filepath, \"w\") as f:\n",
    "        f.write(\"%s\\n\" % list_to_store)\n",
    "        \n",
    "filepath_temp = \"notebooks/[user]_evaluation_[seed].list\"\n",
    "seed = int(filepath_temp.split(\".\")[0].split(\"_\")[-1])\n",
    "random.seed(655322)\n",
    "np.random.seed(655322)"
   ]
  },
  {
   "cell_type": "code",
   "execution_count": null,
   "metadata": {},
   "outputs": [],
   "source": [
    "data_version = \"0.02\"\n",
    "n_augmentations = 0\n",
    "batch_size = 128\n",
    "include_unknown = True\n",
    "known_commands= commands[\"35-words-recognition\"]\n",
    "\n",
    "train_paths, validation_paths, test_paths = get_list_of_wav_paths(data_version=data_version,\n",
    "                                                                  n_augmentations=n_augmentations)\n",
    "\n",
    "data_feeder_test = DataFeeder(data_version=data_version, file_paths=test_paths, batch_size=batch_size,\n",
    "                              include_silence=False, include_unknown=include_unknown, shuffle=False,\n",
    "                              known_commands=known_commands[:])\n",
    "\n",
    "\n"
   ]
  },
  {
   "cell_type": "code",
   "execution_count": null,
   "metadata": {
    "collapsed": true
   },
   "outputs": [],
   "source": [
    "audios = data_feeder_test.audios\n",
    "targets = data_feeder_test.targets\n",
    "targets = list(map(data_feeder_test.target_decoder.get, targets))"
   ]
  },
  {
   "cell_type": "code",
   "execution_count": null,
   "metadata": {
    "collapsed": true
   },
   "outputs": [],
   "source": [
    "grouped = list(zip(audios, targets))\n",
    "random.shuffle(grouped)"
   ]
  },
  {
   "cell_type": "code",
   "execution_count": null,
   "metadata": {
    "collapsed": true
   },
   "outputs": [],
   "source": [
    "audios, targets = zip(*grouped)"
   ]
  },
  {
   "cell_type": "code",
   "execution_count": null,
   "metadata": {},
   "outputs": [],
   "source": [
    "if not os.path.exists(filepath_temp):\n",
    "    print(\"Creating new buffer...\")\n",
    "    pred_and_target = []\n",
    "    i=0\n",
    "else:\n",
    "    print(\"Restoring buffer...\")\n",
    "    pred_and_target = eval(open(filepath_temp).read())\n",
    "    i = len(pred_and_target)"
   ]
  },
  {
   "cell_type": "raw",
   "metadata": {},
   "source": [
    "while True:\n",
    "    clear_output(True)\n",
    "    print(\"Evaluation number %s\" % i)\n",
    "    print(\" | \".join(commands[\"35-words-recognition\"]))\n",
    "    display(Audio(audios[i], rate=16e3, autoplay=True))\n",
    "    time.sleep(1.1)\n",
    "    pred_human = input()\n",
    "    if pred_human in commands[\"35-words-recognition\"]:\n",
    "        pred_and_target.append((targets[i], pred_human))\n",
    "\n",
    "        store_list(pred_and_target, filepath_temp)\n",
    "        i+=1"
   ]
  },
  {
   "cell_type": "code",
   "execution_count": null,
   "metadata": {
    "collapsed": true
   },
   "outputs": [],
   "source": []
  },
  {
   "cell_type": "code",
   "execution_count": null,
   "metadata": {
    "collapsed": true
   },
   "outputs": [],
   "source": []
  },
  {
   "cell_type": "code",
   "execution_count": null,
   "metadata": {},
   "outputs": [],
   "source": [
    "np.mean([a==b for a,b in pred_and_target])"
   ]
  },
  {
   "cell_type": "code",
   "execution_count": null,
   "metadata": {},
   "outputs": [],
   "source": [
    "[b for a, b in pred_and_target if b not in targets]"
   ]
  },
  {
   "cell_type": "code",
   "execution_count": null,
   "metadata": {},
   "outputs": [],
   "source": [
    "len(pred_and_target)"
   ]
  },
  {
   "cell_type": "code",
   "execution_count": null,
   "metadata": {
    "collapsed": true
   },
   "outputs": [],
   "source": [
    "from sklearn.metrics import classification_report\n",
    "t, p = zip(*pred_and_target)"
   ]
  },
  {
   "cell_type": "code",
   "execution_count": null,
   "metadata": {},
   "outputs": [],
   "source": [
    "print(classification_report(t, p))"
   ]
  },
  {
   "cell_type": "code",
   "execution_count": null,
   "metadata": {
    "collapsed": true
   },
   "outputs": [],
   "source": [
    "pt=[]\n",
    "for t, p in pred_and_target:\n",
    "    if p == \"p\":\n",
    "        p = \"up\"\n",
    "    elif p == \"sevenç\":\n",
    "        p=\"seven\"\n",
    "    elif p == \"o\":\n",
    "        p=\"no\"\n",
    "    pt.append((t, p))\n",
    "    \n",
    "    "
   ]
  },
  {
   "cell_type": "code",
   "execution_count": null,
   "metadata": {
    "collapsed": true
   },
   "outputs": [],
   "source": [
    "pred_and_target = pt"
   ]
  },
  {
   "cell_type": "code",
   "execution_count": null,
   "metadata": {
    "collapsed": true
   },
   "outputs": [],
   "source": []
  },
  {
   "cell_type": "code",
   "execution_count": null,
   "metadata": {
    "collapsed": true
   },
   "outputs": [],
   "source": []
  }
 ],
 "metadata": {
  "kernelspec": {
   "display_name": "Python [conda env:anaconda3]",
   "language": "python",
   "name": "conda-env-anaconda3-py"
  },
  "language_info": {
   "codemirror_mode": {
    "name": "ipython",
    "version": 3
   },
   "file_extension": ".py",
   "mimetype": "text/x-python",
   "name": "python",
   "nbconvert_exporter": "python",
   "pygments_lexer": "ipython3",
   "version": "3.6.6"
  }
 },
 "nbformat": 4,
 "nbformat_minor": 2
}
