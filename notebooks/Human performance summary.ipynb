{
 "cells": [
  {
   "cell_type": "code",
   "execution_count": 1,
   "metadata": {},
   "outputs": [
    {
     "name": "stdout",
     "output_type": "stream",
     "text": [
      "C:\\Users\\Ivan Valles Perez\\Documents\\IvanValles\\projects\\xception1d\n"
     ]
    }
   ],
   "source": [
    "%cd .."
   ]
  },
  {
   "cell_type": "code",
   "execution_count": 19,
   "metadata": {},
   "outputs": [],
   "source": [
    "import os\n",
    "from glob import glob\n",
    "import numpy as np\n",
    "from src.constants import available_tasks, commands"
   ]
  },
  {
   "cell_type": "code",
   "execution_count": 40,
   "metadata": {},
   "outputs": [
    {
     "name": "stdout",
     "output_type": "stream",
     "text": [
      "35-words-recognition\n",
      "  - ivan 0.948\n",
      "  - josep 0.9318801089918256\n",
      "  - maria 0.955044955044955\n",
      "     94.50 $\\pm$ 0.97\n",
      "\n",
      "20-commands-recognition\n",
      "  - ivan 0.952\n",
      "  - josep 0.9382379654859219\n",
      "  - maria 0.958041958041958\n",
      "     94.94 $\\pm$ 0.83\n",
      "\n",
      "10-commands-recognition\n",
      "  - ivan 0.983\n",
      "  - josep 0.9627611262488647\n",
      "  - maria 0.978021978021978\n",
      "     97.46 $\\pm$ 0.86\n",
      "\n",
      "left-right\n",
      "  - ivan 0.995\n",
      "  - josep 0.9936421435059037\n",
      "  - maria 0.998001998001998\n",
      "     99.55 $\\pm$ 0.18\n",
      "\n"
     ]
    }
   ],
   "source": [
    "filepaths = glob(\"notebooks/*.list\")\n",
    "subjects = [os.path.split(fp)[1].split(\"_\")[0] for fp in filepaths]\n",
    "evaluations = [eval(open(fp).read()) for fp in filepaths]\n",
    "for task in available_tasks:\n",
    "    print(task)\n",
    "    accuracies = []\n",
    "    for name, evaluation in zip(subjects, evaluations):\n",
    "        target, prediction = zip(*evaluation)\n",
    "        target = [t if t in commands[task] else \"unknown\" for t in target]\n",
    "        prediction = [p if p in commands[task] else \"unknown\" for p in prediction]\n",
    "\n",
    "        accuracy = np.mean([target==prediction for target, prediction in zip(target, prediction)])\n",
    "        print(\"  -\", name, accuracy)\n",
    "        accuracies.append(accuracy)\n",
    "    print(\"     {:.02f} $\\pm$ {:.02f}\\n\".format(np.mean(accuracies)*100, np.std(accuracies)*100))"
   ]
  },
  {
   "cell_type": "code",
   "execution_count": null,
   "metadata": {},
   "outputs": [],
   "source": []
  }
 ],
 "metadata": {
  "kernelspec": {
   "display_name": "Python 3",
   "language": "python",
   "name": "python3"
  },
  "language_info": {
   "codemirror_mode": {
    "name": "ipython",
    "version": 3
   },
   "file_extension": ".py",
   "mimetype": "text/x-python",
   "name": "python",
   "nbconvert_exporter": "python",
   "pygments_lexer": "ipython3",
   "version": "3.6.6"
  }
 },
 "nbformat": 4,
 "nbformat_minor": 2
}
